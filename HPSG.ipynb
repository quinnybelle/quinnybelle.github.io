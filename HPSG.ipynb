{
  "nbformat": 4,
  "nbformat_minor": 0,
  "metadata": {
    "colab": {
      "name": "HPSG.ipynb",
      "provenance": [],
      "collapsed_sections": [
        "IR_06bhFVFAK"
      ],
      "authorship_tag": "ABX9TyOntOMtIqMKVaTKPFK1wJol",
      "include_colab_link": true
    },
    "kernelspec": {
      "name": "python3",
      "display_name": "Python 3"
    },
    "language_info": {
      "name": "python"
    },
    "accelerator": "GPU"
  },
  "cells": [
    {
      "cell_type": "markdown",
      "metadata": {
        "id": "view-in-github",
        "colab_type": "text"
      },
      "source": [
        "<a href=\"https://colab.research.google.com/github/quinnybelle/quinnybelle.github.io/blob/main/HPSG.ipynb\" target=\"_parent\"><img src=\"https://colab.research.google.com/assets/colab-badge.svg\" alt=\"Open In Colab\"/></a>"
      ]
    },
    {
      "cell_type": "code",
      "metadata": {
        "colab": {
          "base_uri": "https://localhost:8080/"
        },
        "id": "2KxAGoTvK5Dt",
        "outputId": "d947c033-2db2-4a5c-cbde-6aece921dbc9"
      },
      "source": [
        "from google.colab import drive\n",
        "drive.mount('/content/drive/')"
      ],
      "execution_count": null,
      "outputs": [
        {
          "output_type": "stream",
          "text": [
            "Mounted at /content/drive/\n"
          ],
          "name": "stdout"
        }
      ]
    },
    {
      "cell_type": "markdown",
      "metadata": {
        "id": "IR_06bhFVFAK"
      },
      "source": [
        "# **Setup**"
      ]
    },
    {
      "cell_type": "code",
      "metadata": {
        "id": "y5VUftZFLBCj",
        "colab": {
          "base_uri": "https://localhost:8080/"
        },
        "outputId": "98d56ce8-3354-4c2a-fdfc-5c15feafc945"
      },
      "source": [
        "# Install neccessary packages\n",
        "!pip install transformers==2.8.0 nltk==3.5 tqdm==4.45.0 sentencepiece==0.1.83"
      ],
      "execution_count": null,
      "outputs": [
        {
          "output_type": "stream",
          "text": [
            "Collecting transformers==2.8.0\n",
            "\u001b[?25l  Downloading https://files.pythonhosted.org/packages/a3/78/92cedda05552398352ed9784908b834ee32a0bd071a9b32de287327370b7/transformers-2.8.0-py3-none-any.whl (563kB)\n",
            "\r\u001b[K     |▋                               | 10kB 25.3MB/s eta 0:00:01\r\u001b[K     |█▏                              | 20kB 30.0MB/s eta 0:00:01\r\u001b[K     |█▊                              | 30kB 34.0MB/s eta 0:00:01\r\u001b[K     |██▎                             | 40kB 36.9MB/s eta 0:00:01\r\u001b[K     |███                             | 51kB 28.6MB/s eta 0:00:01\r\u001b[K     |███▌                            | 61kB 30.8MB/s eta 0:00:01\r\u001b[K     |████                            | 71kB 28.7MB/s eta 0:00:01\r\u001b[K     |████▋                           | 81kB 29.3MB/s eta 0:00:01\r\u001b[K     |█████▎                          | 92kB 27.7MB/s eta 0:00:01\r\u001b[K     |█████▉                          | 102kB 28.9MB/s eta 0:00:01\r\u001b[K     |██████▍                         | 112kB 28.9MB/s eta 0:00:01\r\u001b[K     |███████                         | 122kB 28.9MB/s eta 0:00:01\r\u001b[K     |███████▋                        | 133kB 28.9MB/s eta 0:00:01\r\u001b[K     |████████▏                       | 143kB 28.9MB/s eta 0:00:01\r\u001b[K     |████████▊                       | 153kB 28.9MB/s eta 0:00:01\r\u001b[K     |█████████▎                      | 163kB 28.9MB/s eta 0:00:01\r\u001b[K     |█████████▉                      | 174kB 28.9MB/s eta 0:00:01\r\u001b[K     |██████████▌                     | 184kB 28.9MB/s eta 0:00:01\r\u001b[K     |███████████                     | 194kB 28.9MB/s eta 0:00:01\r\u001b[K     |███████████▋                    | 204kB 28.9MB/s eta 0:00:01\r\u001b[K     |████████████▏                   | 215kB 28.9MB/s eta 0:00:01\r\u001b[K     |████████████▉                   | 225kB 28.9MB/s eta 0:00:01\r\u001b[K     |█████████████▍                  | 235kB 28.9MB/s eta 0:00:01\r\u001b[K     |██████████████                  | 245kB 28.9MB/s eta 0:00:01\r\u001b[K     |██████████████▌                 | 256kB 28.9MB/s eta 0:00:01\r\u001b[K     |███████████████▏                | 266kB 28.9MB/s eta 0:00:01\r\u001b[K     |███████████████▊                | 276kB 28.9MB/s eta 0:00:01\r\u001b[K     |████████████████▎               | 286kB 28.9MB/s eta 0:00:01\r\u001b[K     |████████████████▉               | 296kB 28.9MB/s eta 0:00:01\r\u001b[K     |█████████████████▍              | 307kB 28.9MB/s eta 0:00:01\r\u001b[K     |██████████████████              | 317kB 28.9MB/s eta 0:00:01\r\u001b[K     |██████████████████▋             | 327kB 28.9MB/s eta 0:00:01\r\u001b[K     |███████████████████▏            | 337kB 28.9MB/s eta 0:00:01\r\u001b[K     |███████████████████▊            | 348kB 28.9MB/s eta 0:00:01\r\u001b[K     |████████████████████▍           | 358kB 28.9MB/s eta 0:00:01\r\u001b[K     |█████████████████████           | 368kB 28.9MB/s eta 0:00:01\r\u001b[K     |█████████████████████▌          | 378kB 28.9MB/s eta 0:00:01\r\u001b[K     |██████████████████████          | 389kB 28.9MB/s eta 0:00:01\r\u001b[K     |██████████████████████▊         | 399kB 28.9MB/s eta 0:00:01\r\u001b[K     |███████████████████████▎        | 409kB 28.9MB/s eta 0:00:01\r\u001b[K     |███████████████████████▉        | 419kB 28.9MB/s eta 0:00:01\r\u001b[K     |████████████████████████▍       | 430kB 28.9MB/s eta 0:00:01\r\u001b[K     |█████████████████████████       | 440kB 28.9MB/s eta 0:00:01\r\u001b[K     |█████████████████████████▋      | 450kB 28.9MB/s eta 0:00:01\r\u001b[K     |██████████████████████████▏     | 460kB 28.9MB/s eta 0:00:01\r\u001b[K     |██████████████████████████▊     | 471kB 28.9MB/s eta 0:00:01\r\u001b[K     |███████████████████████████▎    | 481kB 28.9MB/s eta 0:00:01\r\u001b[K     |████████████████████████████    | 491kB 28.9MB/s eta 0:00:01\r\u001b[K     |████████████████████████████▌   | 501kB 28.9MB/s eta 0:00:01\r\u001b[K     |█████████████████████████████   | 512kB 28.9MB/s eta 0:00:01\r\u001b[K     |█████████████████████████████▋  | 522kB 28.9MB/s eta 0:00:01\r\u001b[K     |██████████████████████████████▎ | 532kB 28.9MB/s eta 0:00:01\r\u001b[K     |██████████████████████████████▉ | 542kB 28.9MB/s eta 0:00:01\r\u001b[K     |███████████████████████████████▍| 552kB 28.9MB/s eta 0:00:01\r\u001b[K     |████████████████████████████████| 563kB 28.9MB/s eta 0:00:01\r\u001b[K     |████████████████████████████████| 573kB 28.9MB/s \n",
            "\u001b[?25hCollecting nltk==3.5\n",
            "\u001b[?25l  Downloading https://files.pythonhosted.org/packages/92/75/ce35194d8e3022203cca0d2f896dbb88689f9b3fce8e9f9cff942913519d/nltk-3.5.zip (1.4MB)\n",
            "\u001b[K     |████████████████████████████████| 1.4MB 46.3MB/s \n",
            "\u001b[?25hCollecting tqdm==4.45.0\n",
            "\u001b[?25l  Downloading https://files.pythonhosted.org/packages/4a/1c/6359be64e8301b84160f6f6f7936bbfaaa5e9a4eab6cbc681db07600b949/tqdm-4.45.0-py2.py3-none-any.whl (60kB)\n",
            "\u001b[K     |████████████████████████████████| 61kB 9.6MB/s \n",
            "\u001b[?25hCollecting sentencepiece==0.1.83\n",
            "\u001b[?25l  Downloading https://files.pythonhosted.org/packages/e8/cf/7089b87fdae8f47be81ce8e2e6377b321805c4648f2eb12fbd2987388dac/sentencepiece-0.1.83-cp37-cp37m-manylinux1_x86_64.whl (1.0MB)\n",
            "\u001b[K     |████████████████████████████████| 1.0MB 51.5MB/s \n",
            "\u001b[?25hRequirement already satisfied: filelock in /usr/local/lib/python3.7/dist-packages (from transformers==2.8.0) (3.0.12)\n",
            "Requirement already satisfied: regex!=2019.12.17 in /usr/local/lib/python3.7/dist-packages (from transformers==2.8.0) (2019.12.20)\n",
            "Collecting sacremoses\n",
            "\u001b[?25l  Downloading https://files.pythonhosted.org/packages/75/ee/67241dc87f266093c533a2d4d3d69438e57d7a90abb216fa076e7d475d4a/sacremoses-0.0.45-py3-none-any.whl (895kB)\n",
            "\u001b[K     |████████████████████████████████| 901kB 49.6MB/s \n",
            "\u001b[?25hRequirement already satisfied: requests in /usr/local/lib/python3.7/dist-packages (from transformers==2.8.0) (2.23.0)\n",
            "Collecting tokenizers==0.5.2\n",
            "\u001b[?25l  Downloading https://files.pythonhosted.org/packages/d6/e3/5e49e9a83fb605aaa34a1c1173e607302fecae529428c28696fb18f1c2c9/tokenizers-0.5.2-cp37-cp37m-manylinux1_x86_64.whl (5.6MB)\n",
            "\u001b[K     |████████████████████████████████| 5.6MB 52.7MB/s \n",
            "\u001b[?25hRequirement already satisfied: numpy in /usr/local/lib/python3.7/dist-packages (from transformers==2.8.0) (1.19.5)\n",
            "Collecting boto3\n",
            "\u001b[?25l  Downloading https://files.pythonhosted.org/packages/7c/e1/1b164502f455035def771ec7a31f705351b7f953695d57ce26219aaf21a9/boto3-1.17.90-py2.py3-none-any.whl (131kB)\n",
            "\u001b[K     |████████████████████████████████| 133kB 56.3MB/s \n",
            "\u001b[?25hRequirement already satisfied: click in /usr/local/lib/python3.7/dist-packages (from nltk==3.5) (7.1.2)\n",
            "Requirement already satisfied: joblib in /usr/local/lib/python3.7/dist-packages (from nltk==3.5) (1.0.1)\n",
            "Requirement already satisfied: six in /usr/local/lib/python3.7/dist-packages (from sacremoses->transformers==2.8.0) (1.15.0)\n",
            "Requirement already satisfied: urllib3!=1.25.0,!=1.25.1,<1.26,>=1.21.1 in /usr/local/lib/python3.7/dist-packages (from requests->transformers==2.8.0) (1.24.3)\n",
            "Requirement already satisfied: idna<3,>=2.5 in /usr/local/lib/python3.7/dist-packages (from requests->transformers==2.8.0) (2.10)\n",
            "Requirement already satisfied: chardet<4,>=3.0.2 in /usr/local/lib/python3.7/dist-packages (from requests->transformers==2.8.0) (3.0.4)\n",
            "Requirement already satisfied: certifi>=2017.4.17 in /usr/local/lib/python3.7/dist-packages (from requests->transformers==2.8.0) (2020.12.5)\n",
            "Collecting s3transfer<0.5.0,>=0.4.0\n",
            "\u001b[?25l  Downloading https://files.pythonhosted.org/packages/63/d0/693477c688348654ddc21dcdce0817653a294aa43f41771084c25e7ff9c7/s3transfer-0.4.2-py2.py3-none-any.whl (79kB)\n",
            "\u001b[K     |████████████████████████████████| 81kB 12.7MB/s \n",
            "\u001b[?25hCollecting jmespath<1.0.0,>=0.7.1\n",
            "  Downloading https://files.pythonhosted.org/packages/07/cb/5f001272b6faeb23c1c9e0acc04d48eaaf5c862c17709d20e3469c6e0139/jmespath-0.10.0-py2.py3-none-any.whl\n",
            "Collecting botocore<1.21.0,>=1.20.90\n",
            "\u001b[?25l  Downloading https://files.pythonhosted.org/packages/4a/ac/617d3ac25ea905279deb06edd82d6c19ca272006d6dcf232b837b75c3dde/botocore-1.20.90-py2.py3-none-any.whl (7.6MB)\n",
            "\u001b[K     |████████████████████████████████| 7.6MB 50.4MB/s \n",
            "\u001b[?25hRequirement already satisfied: python-dateutil<3.0.0,>=2.1 in /usr/local/lib/python3.7/dist-packages (from botocore<1.21.0,>=1.20.90->boto3->transformers==2.8.0) (2.8.1)\n",
            "Building wheels for collected packages: nltk\n",
            "  Building wheel for nltk (setup.py) ... \u001b[?25l\u001b[?25hdone\n",
            "  Created wheel for nltk: filename=nltk-3.5-cp37-none-any.whl size=1434696 sha256=9c07b60df3708647ccecbb8320467322b5eb7e6526ca309d583d449835c063f7\n",
            "  Stored in directory: /root/.cache/pip/wheels/ae/8c/3f/b1fe0ba04555b08b57ab52ab7f86023639a526d8bc8d384306\n",
            "Successfully built nltk\n",
            "\u001b[31mERROR: botocore 1.20.90 has requirement urllib3<1.27,>=1.25.4, but you'll have urllib3 1.24.3 which is incompatible.\u001b[0m\n",
            "Installing collected packages: sentencepiece, tqdm, sacremoses, tokenizers, jmespath, botocore, s3transfer, boto3, transformers, nltk\n",
            "  Found existing installation: tqdm 4.41.1\n",
            "    Uninstalling tqdm-4.41.1:\n",
            "      Successfully uninstalled tqdm-4.41.1\n",
            "  Found existing installation: nltk 3.2.5\n",
            "    Uninstalling nltk-3.2.5:\n",
            "      Successfully uninstalled nltk-3.2.5\n",
            "Successfully installed boto3-1.17.90 botocore-1.20.90 jmespath-0.10.0 nltk-3.5 s3transfer-0.4.2 sacremoses-0.0.45 sentencepiece-0.1.83 tokenizers-0.5.2 tqdm-4.45.0 transformers-2.8.0\n"
          ],
          "name": "stdout"
        }
      ]
    },
    {
      "cell_type": "code",
      "metadata": {
        "id": "JYZsfb3F3uJz",
        "colab": {
          "base_uri": "https://localhost:8080/"
        },
        "outputId": "2137a26c-65ae-4aa1-d9f6-748a7a99e6f0"
      },
      "source": [
        "!git clone https://github.com/rootofmylife/LAL-Parser.git"
      ],
      "execution_count": null,
      "outputs": [
        {
          "output_type": "stream",
          "text": [
            "Cloning into 'LAL-Parser'...\n",
            "remote: Enumerating objects: 318, done.\u001b[K\n",
            "remote: Counting objects: 100% (318/318), done.\u001b[K\n",
            "remote: Compressing objects: 100% (221/221), done.\u001b[K\n",
            "remote: Total 318 (delta 167), reused 232 (delta 93), pack-reused 0\u001b[K\n",
            "Receiving objects: 100% (318/318), 12.82 MiB | 22.36 MiB/s, done.\n",
            "Resolving deltas: 100% (167/167), done.\n"
          ],
          "name": "stdout"
        }
      ]
    },
    {
      "cell_type": "code",
      "metadata": {
        "id": "IWsB7lpxLiXb",
        "colab": {
          "base_uri": "https://localhost:8080/"
        },
        "outputId": "8c60a004-4426-4abb-8990-d9b21ff0599e"
      },
      "source": [
        "!unzip '/content/drive/My Drive/Colab/Master_Grade/data/vn_hpsg.zip'"
      ],
      "execution_count": null,
      "outputs": [
        {
          "output_type": "stream",
          "text": [
            "Archive:  /content/drive/My Drive/Colab/Master_Grade/data/vn_hpsg.zip\n",
            "  inflating: vtb_test_3.3.0.sd       \n",
            "  inflating: vtb_dev_3.3.0.sd        \n",
            "  inflating: vtb_train_3.3.0.sd      \n",
            "  inflating: cp_test_vn.clean        \n",
            "  inflating: cp_train_vn.clean       \n",
            "  inflating: cp_dev_vn.clean         \n"
          ],
          "name": "stdout"
        }
      ]
    },
    {
      "cell_type": "code",
      "metadata": {
        "id": "RMj-QqlhN4DJ"
      },
      "source": [
        "!mv ./cp_train_vn.clean ./LAL-Parser/data/\n",
        "!mv ./cp_dev_vn.clean ./LAL-Parser/data/\n",
        "!mv ./cp_test_vn.clean ./LAL-Parser/data/\n",
        "\n",
        "!mv ./vtb_train_3.3.0.sd ./LAL-Parser/data/\n",
        "!mv ./vtb_dev_3.3.0.sd ./LAL-Parser/data/\n",
        "!mv ./vtb_test_3.3.0.sd ./LAL-Parser/data/"
      ],
      "execution_count": null,
      "outputs": []
    },
    {
      "cell_type": "code",
      "metadata": {
        "id": "DkImG6k31bS7",
        "colab": {
          "base_uri": "https://localhost:8080/"
        },
        "outputId": "f960ab4b-d877-41fc-9e56-1e1efcc8bdeb"
      },
      "source": [
        "%cd ./LAL-Parser/EVALB\n",
        "!make\n",
        "%cd .."
      ],
      "execution_count": null,
      "outputs": [
        {
          "output_type": "stream",
          "text": [
            "/content/LAL-Parser/EVALB\n",
            "gcc -Wall -g -o evalb evalb.c\n",
            "\u001b[01m\u001b[Kevalb.c:\u001b[m\u001b[K In function ‘\u001b[01m\u001b[Kmain\u001b[m\u001b[K’:\n",
            "\u001b[01m\u001b[Kevalb.c:378:22:\u001b[m\u001b[K \u001b[01;35m\u001b[Kwarning: \u001b[m\u001b[Kpointer targets in passing argument 1 of ‘\u001b[01m\u001b[Kfgets\u001b[m\u001b[K’ differ in signedness [\u001b[01;35m\u001b[K-Wpointer-sign\u001b[m\u001b[K]\n",
            "     for(Line=1;fgets(\u001b[01;35m\u001b[Kbuff\u001b[m\u001b[K,5000,fd1)!=NULL;Line++){\n",
            "                      \u001b[01;35m\u001b[K^~~~\u001b[m\u001b[K\n",
            "In file included from \u001b[01m\u001b[Kevalb.c:21:0\u001b[m\u001b[K:\n",
            "\u001b[01m\u001b[K/usr/include/stdio.h:564:14:\u001b[m\u001b[K \u001b[01;36m\u001b[Knote: \u001b[m\u001b[Kexpected ‘\u001b[01m\u001b[Kchar * restrict\u001b[m\u001b[K’ but argument is of type ‘\u001b[01m\u001b[Kunsigned char *\u001b[m\u001b[K’\n",
            " extern char *\u001b[01;36m\u001b[Kfgets\u001b[m\u001b[K (char *__restrict __s, int __n, FILE *__restrict __stream)\n",
            "              \u001b[01;36m\u001b[K^~~~~\u001b[m\u001b[K\n",
            "\u001b[01m\u001b[Kevalb.c:385:9:\u001b[m\u001b[K \u001b[01;35m\u001b[Kwarning: \u001b[m\u001b[Kpointer targets in passing argument 1 of ‘\u001b[01m\u001b[Kstrcpy\u001b[m\u001b[K’ differ in signedness [\u001b[01;35m\u001b[K-Wpointer-sign\u001b[m\u001b[K]\n",
            "  strcpy(\u001b[01;35m\u001b[Kbuff1\u001b[m\u001b[K,buff);\n",
            "         \u001b[01;35m\u001b[K^~~~~\u001b[m\u001b[K\n",
            "In file included from \u001b[01m\u001b[Kevalb.c:24:0\u001b[m\u001b[K:\n",
            "\u001b[01m\u001b[K/usr/include/string.h:121:14:\u001b[m\u001b[K \u001b[01;36m\u001b[Knote: \u001b[m\u001b[Kexpected ‘\u001b[01m\u001b[Kchar * restrict\u001b[m\u001b[K’ but argument is of type ‘\u001b[01m\u001b[Kunsigned char *\u001b[m\u001b[K’\n",
            " extern char *\u001b[01;36m\u001b[Kstrcpy\u001b[m\u001b[K (char *__restrict __dest, const char *__restrict __src)\n",
            "              \u001b[01;36m\u001b[K^~~~~~\u001b[m\u001b[K\n",
            "\u001b[01m\u001b[Kevalb.c:385:15:\u001b[m\u001b[K \u001b[01;35m\u001b[Kwarning: \u001b[m\u001b[Kpointer targets in passing argument 2 of ‘\u001b[01m\u001b[Kstrcpy\u001b[m\u001b[K’ differ in signedness [\u001b[01;35m\u001b[K-Wpointer-sign\u001b[m\u001b[K]\n",
            "  strcpy(buff1,\u001b[01;35m\u001b[Kbuff\u001b[m\u001b[K);\n",
            "               \u001b[01;35m\u001b[K^~~~\u001b[m\u001b[K\n",
            "In file included from \u001b[01m\u001b[Kevalb.c:24:0\u001b[m\u001b[K:\n",
            "\u001b[01m\u001b[K/usr/include/string.h:121:14:\u001b[m\u001b[K \u001b[01;36m\u001b[Knote: \u001b[m\u001b[Kexpected ‘\u001b[01m\u001b[Kconst char * restrict\u001b[m\u001b[K’ but argument is of type ‘\u001b[01m\u001b[Kunsigned char *\u001b[m\u001b[K’\n",
            " extern char *\u001b[01;36m\u001b[Kstrcpy\u001b[m\u001b[K (char *__restrict __dest, const char *__restrict __src)\n",
            "              \u001b[01;36m\u001b[K^~~~~~\u001b[m\u001b[K\n",
            "\u001b[01m\u001b[Kevalb.c:388:11:\u001b[m\u001b[K \u001b[01;35m\u001b[Kwarning: \u001b[m\u001b[Kpointer targets in passing argument 1 of ‘\u001b[01m\u001b[Kfgets\u001b[m\u001b[K’ differ in signedness [\u001b[01;35m\u001b[K-Wpointer-sign\u001b[m\u001b[K]\n",
            "  if(fgets(\u001b[01;35m\u001b[Kbuff\u001b[m\u001b[K,5000,fd2)==NULL){\n",
            "           \u001b[01;35m\u001b[K^~~~\u001b[m\u001b[K\n",
            "In file included from \u001b[01m\u001b[Kevalb.c:21:0\u001b[m\u001b[K:\n",
            "\u001b[01m\u001b[K/usr/include/stdio.h:564:14:\u001b[m\u001b[K \u001b[01;36m\u001b[Knote: \u001b[m\u001b[Kexpected ‘\u001b[01m\u001b[Kchar * restrict\u001b[m\u001b[K’ but argument is of type ‘\u001b[01m\u001b[Kunsigned char *\u001b[m\u001b[K’\n",
            " extern char *\u001b[01;36m\u001b[Kfgets\u001b[m\u001b[K (char *__restrict __s, int __n, FILE *__restrict __stream)\n",
            "              \u001b[01;36m\u001b[K^~~~~\u001b[m\u001b[K\n",
            "\u001b[01m\u001b[Kevalb.c:403:14:\u001b[m\u001b[K \u001b[01;35m\u001b[Kwarning: \u001b[m\u001b[Kpointer targets in passing argument 1 of ‘\u001b[01m\u001b[Kfgets\u001b[m\u001b[K’ differ in signedness [\u001b[01;35m\u001b[K-Wpointer-sign\u001b[m\u001b[K]\n",
            "     if(fgets(\u001b[01;35m\u001b[Kbuff\u001b[m\u001b[K,5000,fd2)!=NULL){\n",
            "              \u001b[01;35m\u001b[K^~~~\u001b[m\u001b[K\n",
            "In file included from \u001b[01m\u001b[Kevalb.c:21:0\u001b[m\u001b[K:\n",
            "\u001b[01m\u001b[K/usr/include/stdio.h:564:14:\u001b[m\u001b[K \u001b[01;36m\u001b[Knote: \u001b[m\u001b[Kexpected ‘\u001b[01m\u001b[Kchar * restrict\u001b[m\u001b[K’ but argument is of type ‘\u001b[01m\u001b[Kunsigned char *\u001b[m\u001b[K’\n",
            " extern char *\u001b[01;36m\u001b[Kfgets\u001b[m\u001b[K (char *__restrict __s, int __n, FILE *__restrict __stream)\n",
            "              \u001b[01;36m\u001b[K^~~~~\u001b[m\u001b[K\n",
            "\u001b[01m\u001b[Kevalb.c:\u001b[m\u001b[K In function ‘\u001b[01m\u001b[Kread_line\u001b[m\u001b[K’:\n",
            "\u001b[01m\u001b[Kevalb.c:692:50:\u001b[m\u001b[K \u001b[01;35m\u001b[Kwarning: \u001b[m\u001b[Klogical not is only applied to the left hand side of comparison [\u001b[01;35m\u001b[K-Wlogical-not-parentheses\u001b[m\u001b[K]\n",
            "   if(*q==')' && !is_deletelabel_for_length(label)\u001b[01;35m\u001b[K==\u001b[m\u001b[K1){\n",
            "                                                  \u001b[01;35m\u001b[K^~\u001b[m\u001b[K\n",
            "\u001b[01m\u001b[Kevalb.c:692:17:\u001b[m\u001b[K \u001b[01;36m\u001b[Knote: \u001b[m\u001b[Kadd parentheses around left hand side expression to silence this warning\n",
            "   if(*q==')' && \u001b[01;36m\u001b[K!is_deletelabel_for_length(label)\u001b[m\u001b[K==1){\n",
            "                 \u001b[01;36m\u001b[K^~~~~~~~~~~~~~~~~~~~~~~~~~~~~~~~~\u001b[m\u001b[K\n",
            "                 \u001b[32m\u001b[K(\u001b[m\u001b[K                                \u001b[32m\u001b[K)\u001b[m\u001b[K\n",
            "\u001b[01m\u001b[Kevalb.c:658:11:\u001b[m\u001b[K \u001b[01;35m\u001b[Kwarning: \u001b[m\u001b[Kvariable ‘\u001b[01m\u001b[Kn\u001b[m\u001b[K’ set but not used [\u001b[01;35m\u001b[K-Wunused-but-set-variable\u001b[m\u001b[K]\n",
            "     int   \u001b[01;35m\u001b[Kn\u001b[m\u001b[K;              /* temporary remembering the position */\n",
            "           \u001b[01;35m\u001b[K^\u001b[m\u001b[K\n",
            "\u001b[01m\u001b[Kevalb.c:\u001b[m\u001b[K In function ‘\u001b[01m\u001b[Kcalc_result\u001b[m\u001b[K’:\n",
            "\u001b[01m\u001b[Kevalb.c:878:23:\u001b[m\u001b[K \u001b[01;35m\u001b[Kwarning: \u001b[m\u001b[Kpointer targets in passing argument 2 of ‘\u001b[01m\u001b[Kstrncpy\u001b[m\u001b[K’ differ in signedness [\u001b[01;35m\u001b[K-Wpointer-sign\u001b[m\u001b[K]\n",
            "        strncpy(my_buf,\u001b[01;35m\u001b[Kbuf1\u001b[m\u001b[K+bracket1[i].buf_start,l);\n",
            "                       \u001b[01;35m\u001b[K^~~~\u001b[m\u001b[K\n",
            "In file included from \u001b[01m\u001b[Kevalb.c:24:0\u001b[m\u001b[K:\n",
            "\u001b[01m\u001b[K/usr/include/string.h:124:14:\u001b[m\u001b[K \u001b[01;36m\u001b[Knote: \u001b[m\u001b[Kexpected ‘\u001b[01m\u001b[Kconst char * restrict\u001b[m\u001b[K’ but argument is of type ‘\u001b[01m\u001b[Kunsigned char *\u001b[m\u001b[K’\n",
            " extern char *\u001b[01;36m\u001b[Kstrncpy\u001b[m\u001b[K (char *__restrict __dest,\n",
            "              \u001b[01;36m\u001b[K^~~~~~~\u001b[m\u001b[K\n",
            "\u001b[01m\u001b[Kevalb.c:892:17:\u001b[m\u001b[K \u001b[01;35m\u001b[Kwarning: \u001b[m\u001b[Kpointer targets in passing argument 2 of ‘\u001b[01m\u001b[Kstrncpy\u001b[m\u001b[K’ differ in signedness [\u001b[01;35m\u001b[K-Wpointer-sign\u001b[m\u001b[K]\n",
            "  strncpy(my_buf,\u001b[01;35m\u001b[Kbuf1\u001b[m\u001b[K+bracket1[i].buf_start,l);\n",
            "                 \u001b[01;35m\u001b[K^~~~\u001b[m\u001b[K\n",
            "In file included from \u001b[01m\u001b[Kevalb.c:24:0\u001b[m\u001b[K:\n",
            "\u001b[01m\u001b[K/usr/include/string.h:124:14:\u001b[m\u001b[K \u001b[01;36m\u001b[Knote: \u001b[m\u001b[Kexpected ‘\u001b[01m\u001b[Kconst char * restrict\u001b[m\u001b[K’ but argument is of type ‘\u001b[01m\u001b[Kunsigned char *\u001b[m\u001b[K’\n",
            " extern char *\u001b[01;36m\u001b[Kstrncpy\u001b[m\u001b[K (char *__restrict __dest,\n",
            "              \u001b[01;36m\u001b[K^~~~~~~\u001b[m\u001b[K\n",
            "\u001b[01m\u001b[Kevalb.c:904:17:\u001b[m\u001b[K \u001b[01;35m\u001b[Kwarning: \u001b[m\u001b[Kpointer targets in passing argument 2 of ‘\u001b[01m\u001b[Kstrncpy\u001b[m\u001b[K’ differ in signedness [\u001b[01;35m\u001b[K-Wpointer-sign\u001b[m\u001b[K]\n",
            "  strncpy(my_buf,\u001b[01;35m\u001b[Kbuf\u001b[m\u001b[K+bracket2[j].buf_start,l);\n",
            "                 \u001b[01;35m\u001b[K^~~\u001b[m\u001b[K\n",
            "In file included from \u001b[01m\u001b[Kevalb.c:24:0\u001b[m\u001b[K:\n",
            "\u001b[01m\u001b[K/usr/include/string.h:124:14:\u001b[m\u001b[K \u001b[01;36m\u001b[Knote: \u001b[m\u001b[Kexpected ‘\u001b[01m\u001b[Kconst char * restrict\u001b[m\u001b[K’ but argument is of type ‘\u001b[01m\u001b[Kunsigned char *\u001b[m\u001b[K’\n",
            " extern char *\u001b[01;36m\u001b[Kstrncpy\u001b[m\u001b[K (char *__restrict __dest,\n",
            "              \u001b[01;36m\u001b[K^~~~~~~\u001b[m\u001b[K\n",
            "\u001b[01m\u001b[Kevalb.c:932:22:\u001b[m\u001b[K \u001b[01;35m\u001b[Kwarning: \u001b[m\u001b[Kpointer targets in passing argument 2 of ‘\u001b[01m\u001b[Kstrncpy\u001b[m\u001b[K’ differ in signedness [\u001b[01;35m\u001b[K-Wpointer-sign\u001b[m\u001b[K]\n",
            "       strncpy(my_buf,\u001b[01;35m\u001b[Kbuf1\u001b[m\u001b[K+bracket1[i].buf_start,l);\n",
            "                      \u001b[01;35m\u001b[K^~~~\u001b[m\u001b[K\n",
            "In file included from \u001b[01m\u001b[Kevalb.c:24:0\u001b[m\u001b[K:\n",
            "\u001b[01m\u001b[K/usr/include/string.h:124:14:\u001b[m\u001b[K \u001b[01;36m\u001b[Knote: \u001b[m\u001b[Kexpected ‘\u001b[01m\u001b[Kconst char * restrict\u001b[m\u001b[K’ but argument is of type ‘\u001b[01m\u001b[Kunsigned char *\u001b[m\u001b[K’\n",
            " extern char *\u001b[01;36m\u001b[Kstrncpy\u001b[m\u001b[K (char *__restrict __dest,\n",
            "              \u001b[01;36m\u001b[K^~~~~~~\u001b[m\u001b[K\n",
            "/content/LAL-Parser\n"
          ],
          "name": "stdout"
        }
      ]
    },
    {
      "cell_type": "markdown",
      "metadata": {
        "id": "ZrUSDMmYVHSE"
      },
      "source": [
        "# **Run**"
      ]
    },
    {
      "cell_type": "code",
      "metadata": {
        "colab": {
          "base_uri": "https://localhost:8080/"
        },
        "id": "6gPSyKNoWSpu",
        "outputId": "cb997c09-ab56-4a7a-c36c-b7415a921c70"
      },
      "source": [
        "!python3 src_joint/main.py train \\\n",
        " --model-path-base models/hpsg_vn \\\n",
        " --epochs 100 \\\n",
        " --use-tags \\\n",
        " --const-lada 0.5 \\\n",
        " --dataset ptb \\\n",
        " --embedding-path data/glove.gz \\\n",
        " --model-name hpsg_vn \\\n",
        " --checks-per-epoch 4 \\\n",
        " --num-layers 3 \\\n",
        " --learning-rate 0.00005 \\\n",
        " --batch-size 100 \\\n",
        " --eval-batch-size 20 \\\n",
        " --subbatch-max-tokens 1000 \\\n",
        " --train-ptb-path data/02-21.10way.clean \\\n",
        " --dev-ptb-path data/22.auto.clean \\\n",
        " --dep-train-ptb-path data/ptb_train_3.3.0.sd.clean \\\n",
        " --dep-dev-ptb-path data/ptb_dev_3.3.0.sd.clean \\\n",
        " --lal-d-kv 128 \\\n",
        " --lal-d-proj 128 \\\n",
        " --no-lal-resdrop"
      ],
      "execution_count": null,
      "outputs": [
        {
          "output_type": "stream",
          "text": [
            "2021-06-09 10:43:31.530533: I tensorflow/stream_executor/platform/default/dso_loader.cc:53] Successfully opened dynamic library libcudart.so.11.0\n",
            "Manual seed for pytorch: 895000610\n",
            "Hyperparameters:\n",
            "attention_dropout 0.2\n",
            "bert_do_lower_case True\n",
            "bert_model 'bert-large-uncased'\n",
            "bert_transliterate ''\n",
            "char_lstm_input_dropout 0.2\n",
            "clip_grad_norm 0.0\n",
            "const_lada 0.5\n",
            "d_biaffine 1024\n",
            "d_char_emb 64\n",
            "d_ff 2048\n",
            "d_kv 64\n",
            "d_label_hidden 250\n",
            "d_model 1024\n",
            "dataset 'ptb'\n",
            "elmo_dropout 0.5\n",
            "embedding_dropout 0.2\n",
            "embedding_path 'data/glove.gz'\n",
            "embedding_type 'random'\n",
            "lal_combine_as_self False\n",
            "lal_d_kv 128\n",
            "lal_d_proj 128\n",
            "lal_partitioned True\n",
            "lal_pwff True\n",
            "lal_q_as_matrix False\n",
            "lal_resdrop False\n",
            "learning_rate 5e-05\n",
            "learning_rate_warmup_steps 160\n",
            "max_len_dev 0\n",
            "max_len_train 0\n",
            "model_name 'hpsg_vn'\n",
            "morpho_emb_dropout 0.2\n",
            "num_heads 8\n",
            "num_layers 3\n",
            "pad_left False\n",
            "partitioned True\n",
            "punctuation \".``'':,\"\n",
            "relu_dropout 0.2\n",
            "residual_dropout 0.2\n",
            "roberta_do_lower_case False\n",
            "roberta_model 'roberta-large'\n",
            "sentence_max_len 300\n",
            "step_decay True\n",
            "step_decay_factor 0.5\n",
            "step_decay_patience 5\n",
            "tag_emb_dropout 0.2\n",
            "timing_dropout 0.0\n",
            "use_bert False\n",
            "use_bert_only False\n",
            "use_cat False\n",
            "use_chars_lstm False\n",
            "use_elmo False\n",
            "use_lal True\n",
            "use_roberta False\n",
            "use_tags True\n",
            "use_words False\n",
            "use_xlnet False\n",
            "word_emb_dropout 0.4\n",
            "xlnet_do_lower_case False\n",
            "xlnet_model 'xlnet-large-cased'\n",
            "Reading dependency parsing data from data/ptb_train_3.3.0.sd.clean\n",
            "Reading dependency parsing data from data/ptb_dev_3.3.0.sd.clean\n",
            "reading data: 10000\n",
            "reading data: 20000\n",
            "reading data: 30000\n",
            "Total number of data: 39832\n",
            "Loading training trees from data/02-21.10way.clean...\n",
            "Loaded 39,832 training examples.\n",
            "Loading development trees from data/22.auto.clean...\n",
            "Loaded 1,700 development examples.\n",
            "Processing trees for training...\n",
            "total wrong head of : train data: is 46\n",
            "total wrong head of : dev data: is 3\n",
            "Constructing vocabularies...\n",
            "Initializing model...\n",
            "annotation dim: 14336\n",
            "/usr/local/lib/python3.7/dist-packages/torch/nn/_reduction.py:42: UserWarning: size_average and reduce args will be deprecated, please use reduction='sum' instead.\n",
            "  warnings.warn(warning.format(ret))\n",
            "Initializing optimizer...\n",
            "Training...\n",
            "This is  hpsg_vn\n",
            "torch.Size([4, 4, 14336])\n",
            "Traceback (most recent call last):\n",
            "  File \"src_joint/main.py\", line 811, in <module>\n",
            "    main()\n",
            "  File \"src_joint/main.py\", line 806, in main\n",
            "    args.callback(args)\n",
            "  File \"src_joint/main.py\", line 753, in <lambda>\n",
            "    subparser.set_defaults(callback=lambda args: run_train(args, hparams))\n",
            "  File \"src_joint/main.py\", line 493, in run_train\n",
            "    subbatch_sentences, subbatch_trees)\n",
            "TypeError: cannot unpack non-iterable NoneType object\n"
          ],
          "name": "stdout"
        }
      ]
    },
    {
      "cell_type": "code",
      "metadata": {
        "id": "UHDU1T9dPEsw",
        "colab": {
          "base_uri": "https://localhost:8080/"
        },
        "outputId": "2516b4da-d7cf-47ed-f152-db75153a1b8c"
      },
      "source": [
        "!python3 src_joint/main.py train \\\n",
        " --model-path-base models/hpsg_vn \\\n",
        " --epochs 100 \\\n",
        " --use-tags \\\n",
        " --const-lada 0.5 \\\n",
        " --dataset ptb \\\n",
        " --embedding-path data/glove.gz \\\n",
        " --model-name hpsg_vn \\\n",
        " --checks-per-epoch 4 \\\n",
        " --num-layers 3 \\\n",
        " --learning-rate 0.00005 \\\n",
        " --batch-size 100 \\\n",
        " --eval-batch-size 20 \\\n",
        " --subbatch-max-tokens 1000 \\\n",
        " --train-ptb-path data/cp_train_vn.clean \\\n",
        " --dev-ptb-path data/cp_dev_vn.clean \\\n",
        " --dep-train-ptb-path data/vtb_train_3.3.0.sd \\\n",
        " --dep-dev-ptb-path data/vtb_dev_3.3.0.sd \\\n",
        " --lal-d-kv 128 \\\n",
        " --lal-d-proj 128 \\\n",
        " --no-lal-resdrop"
      ],
      "execution_count": null,
      "outputs": [
        {
          "output_type": "stream",
          "text": [
            "2021-05-25 05:09:48.387068: I tensorflow/stream_executor/platform/default/dso_loader.cc:49] Successfully opened dynamic library libcudart.so.11.0\n",
            "/usr/local/lib/python3.7/dist-packages/Cython/Compiler/Main.py:369: FutureWarning: Cython directive 'language_level' not set, using 2 for now (Py2). This will change in a later release! File: /content/LAL-Parser/src_joint/hpsg_decoder.pyx\n",
            "  tree = Parsing.p_module(s, pxd, full_module_name)\n",
            "In file included from \u001b[01m\u001b[K/usr/local/lib/python3.7/dist-packages/numpy/core/include/numpy/ndarraytypes.h:1822:0\u001b[m\u001b[K,\n",
            "                 from \u001b[01m\u001b[K/usr/local/lib/python3.7/dist-packages/numpy/core/include/numpy/ndarrayobject.h:12\u001b[m\u001b[K,\n",
            "                 from \u001b[01m\u001b[K/usr/local/lib/python3.7/dist-packages/numpy/core/include/numpy/arrayobject.h:4\u001b[m\u001b[K,\n",
            "                 from \u001b[01m\u001b[K/root/.pyxbld/temp.linux-x86_64-3.7/pyrex/hpsg_decoder.c:612\u001b[m\u001b[K:\n",
            "\u001b[01m\u001b[K/usr/local/lib/python3.7/dist-packages/numpy/core/include/numpy/npy_1_7_deprecated_api.h:17:2:\u001b[m\u001b[K \u001b[01;35m\u001b[Kwarning: \u001b[m\u001b[K#warning \"Using deprecated NumPy API, disable it with \" \"#define NPY_NO_DEPRECATED_API NPY_1_7_API_VERSION\" [\u001b[01;35m\u001b[K-Wcpp\u001b[m\u001b[K]\n",
            " #\u001b[01;35m\u001b[Kwarning\u001b[m\u001b[K \"Using deprecated NumPy API, disable it with \" \\\n",
            "  \u001b[01;35m\u001b[K^~~~~~~\u001b[m\u001b[K\n",
            "\u001b[01m\u001b[K/root/.pyxbld/temp.linux-x86_64-3.7/pyrex/hpsg_decoder.c:\u001b[m\u001b[K In function ‘\u001b[01m\u001b[K__pyx_pf_12hpsg_decoder_decode.isra.12\u001b[m\u001b[K’:\n",
            "\u001b[01m\u001b[K/root/.pyxbld/temp.linux-x86_64-3.7/pyrex/hpsg_decoder.c:5570:14:\u001b[m\u001b[K \u001b[01;35m\u001b[Kwarning: \u001b[m\u001b[K‘\u001b[01m\u001b[K__pyx_v_root_head\u001b[m\u001b[K’ may be used uninitialized in this function [\u001b[01;35m\u001b[K-Wmaybe-uninitialized\u001b[m\u001b[K]\n",
            "   \u001b[01;35m\u001b[K__pyx_t_33 = __pyx_v_root_head\u001b[m\u001b[K;\n",
            "   \u001b[01;35m\u001b[K~~~~~~~~~~~^~~~~~~~~~~~~~~~~~~\u001b[m\u001b[K\n",
            "/usr/local/lib/python3.7/dist-packages/Cython/Compiler/Main.py:369: FutureWarning: Cython directive 'language_level' not set, using 2 for now (Py2). This will change in a later release! File: /content/LAL-Parser/src_joint/const_decoder.pyx\n",
            "  tree = Parsing.p_module(s, pxd, full_module_name)\n",
            "In file included from \u001b[01m\u001b[K/usr/local/lib/python3.7/dist-packages/numpy/core/include/numpy/ndarraytypes.h:1822:0\u001b[m\u001b[K,\n",
            "                 from \u001b[01m\u001b[K/usr/local/lib/python3.7/dist-packages/numpy/core/include/numpy/ndarrayobject.h:12\u001b[m\u001b[K,\n",
            "                 from \u001b[01m\u001b[K/usr/local/lib/python3.7/dist-packages/numpy/core/include/numpy/arrayobject.h:4\u001b[m\u001b[K,\n",
            "                 from \u001b[01m\u001b[K/root/.pyxbld/temp.linux-x86_64-3.7/pyrex/const_decoder.c:612\u001b[m\u001b[K:\n",
            "\u001b[01m\u001b[K/usr/local/lib/python3.7/dist-packages/numpy/core/include/numpy/npy_1_7_deprecated_api.h:17:2:\u001b[m\u001b[K \u001b[01;35m\u001b[Kwarning: \u001b[m\u001b[K#warning \"Using deprecated NumPy API, disable it with \" \"#define NPY_NO_DEPRECATED_API NPY_1_7_API_VERSION\" [\u001b[01;35m\u001b[K-Wcpp\u001b[m\u001b[K]\n",
            " #\u001b[01;35m\u001b[Kwarning\u001b[m\u001b[K \"Using deprecated NumPy API, disable it with \" \\\n",
            "  \u001b[01;35m\u001b[K^~~~~~~\u001b[m\u001b[K\n",
            "\u001b[01m\u001b[K/root/.pyxbld/temp.linux-x86_64-3.7/pyrex/const_decoder.c:\u001b[m\u001b[K In function ‘\u001b[01m\u001b[K__pyx_pf_13const_decoder_decode.isra.9\u001b[m\u001b[K’:\n",
            "\u001b[01m\u001b[K/root/.pyxbld/temp.linux-x86_64-3.7/pyrex/const_decoder.c:3050:20:\u001b[m\u001b[K \u001b[01;35m\u001b[Kwarning: \u001b[m\u001b[K‘\u001b[01m\u001b[K__pyx_v_oracle_label_index\u001b[m\u001b[K’ may be used uninitialized in this function [\u001b[01;35m\u001b[K-Wmaybe-uninitialized\u001b[m\u001b[K]\n",
            "         \u001b[01;35m\u001b[K__pyx_t_31 = __pyx_v_oracle_label_index\u001b[m\u001b[K;\n",
            "         \u001b[01;35m\u001b[K~~~~~~~~~~~^~~~~~~~~~~~~~~~~~~~~~~~~~~~\u001b[m\u001b[K\n",
            "\u001b[01m\u001b[K/root/.pyxbld/temp.linux-x86_64-3.7/pyrex/const_decoder.c:1375:91:\u001b[m\u001b[K \u001b[01;35m\u001b[Kwarning: \u001b[m\u001b[K‘\u001b[01m\u001b[K__pyx_pybuffernd_oracle_split_chart.diminfo[1].strides\u001b[m\u001b[K’ may be used uninitialized in this function [\u001b[01;35m\u001b[K-Wmaybe-uninitialized\u001b[m\u001b[K]\n",
            " #define __Pyx_BufPtrStrided2d(type, buf, i0, s0, i1, s1) (type)((char*)buf + i0 * s0 + i1 \u001b[01;35m\u001b[K*\u001b[m\u001b[K s1)\n",
            "                                                                                           \u001b[01;35m\u001b[K^\u001b[m\u001b[K\n",
            "\u001b[01m\u001b[K/root/.pyxbld/temp.linux-x86_64-3.7/pyrex/const_decoder.c:2050:21:\u001b[m\u001b[K \u001b[01;36m\u001b[Knote: \u001b[m\u001b[K‘\u001b[01m\u001b[K__pyx_pybuffernd_oracle_split_chart.diminfo[1].strides\u001b[m\u001b[K’ was declared here\n",
            "   __Pyx_LocalBuf_ND \u001b[01;36m\u001b[K__pyx_pybuffernd_oracle_split_chart\u001b[m\u001b[K;\n",
            "                     \u001b[01;36m\u001b[K^~~~~~~~~~~~~~~~~~~~~~~~~~~~~~~~~~~\u001b[m\u001b[K\n",
            "\u001b[01m\u001b[K/root/.pyxbld/temp.linux-x86_64-3.7/pyrex/const_decoder.c:3336:40:\u001b[m\u001b[K \u001b[01;35m\u001b[Kwarning: \u001b[m\u001b[K‘\u001b[01m\u001b[K__pyx_pybuffernd_oracle_split_chart.diminfo[1].shape\u001b[m\u001b[K’ may be used uninitialized in this function [\u001b[01;35m\u001b[K-Wmaybe-uninitialized\u001b[m\u001b[K]\n",
            "         if (__pyx_t_31 < 0) \u001b[01;35m\u001b[K__pyx_t_31 += __pyx_pybuffernd_oracle_split_chart.diminfo[1].shape\u001b[m\u001b[K;\n",
            "                             \u001b[01;35m\u001b[K~~~~~~~~~~~^~~~~~~~~~~~~~~~~~~~~~~~~~~~~~~~~~~~~~~~~~~~~~~~~~~~~~~\u001b[m\u001b[K\n",
            "\u001b[01m\u001b[K/root/.pyxbld/temp.linux-x86_64-3.7/pyrex/const_decoder.c:2050:21:\u001b[m\u001b[K \u001b[01;35m\u001b[Kwarning: \u001b[m\u001b[K‘\u001b[01m\u001b[K__pyx_pybuffernd_oracle_split_chart.diminfo[0].strides\u001b[m\u001b[K’ may be used uninitialized in this function [\u001b[01;35m\u001b[K-Wmaybe-uninitialized\u001b[m\u001b[K]\n",
            "   __Pyx_LocalBuf_ND \u001b[01;35m\u001b[K__pyx_pybuffernd_oracle_split_chart\u001b[m\u001b[K;\n",
            "                     \u001b[01;35m\u001b[K^~~~~~~~~~~~~~~~~~~~~~~~~~~~~~~~~~~\u001b[m\u001b[K\n",
            "\u001b[01m\u001b[K/root/.pyxbld/temp.linux-x86_64-3.7/pyrex/const_decoder.c:2048:21:\u001b[m\u001b[K \u001b[01;35m\u001b[Kwarning: \u001b[m\u001b[K‘\u001b[01m\u001b[K__pyx_pybuffernd_oracle_label_chart.diminfo[0].strides\u001b[m\u001b[K’ may be used uninitialized in this function [\u001b[01;35m\u001b[K-Wmaybe-uninitialized\u001b[m\u001b[K]\n",
            "   __Pyx_LocalBuf_ND \u001b[01;35m\u001b[K__pyx_pybuffernd_oracle_label_chart\u001b[m\u001b[K;\n",
            "                     \u001b[01;35m\u001b[K^~~~~~~~~~~~~~~~~~~~~~~~~~~~~~~~~~~\u001b[m\u001b[K\n",
            "Manual seed for pytorch: 1137332627\n",
            "Hyperparameters:\n",
            "attention_dropout 0.2\n",
            "bert_do_lower_case True\n",
            "bert_model 'bert-large-uncased'\n",
            "bert_transliterate ''\n",
            "char_lstm_input_dropout 0.2\n",
            "clip_grad_norm 0.0\n",
            "const_lada 0.5\n",
            "d_biaffine 1024\n",
            "d_char_emb 64\n",
            "d_ff 2048\n",
            "d_kv 64\n",
            "d_label_hidden 250\n",
            "d_model 1024\n",
            "dataset 'ptb'\n",
            "elmo_dropout 0.5\n",
            "embedding_dropout 0.2\n",
            "embedding_path 'data/glove.gz'\n",
            "embedding_type 'random'\n",
            "lal_combine_as_self False\n",
            "lal_d_kv 128\n",
            "lal_d_proj 128\n",
            "lal_partitioned True\n",
            "lal_pwff True\n",
            "lal_q_as_matrix False\n",
            "lal_resdrop False\n",
            "learning_rate 5e-05\n",
            "learning_rate_warmup_steps 160\n",
            "max_len_dev 0\n",
            "max_len_train 0\n",
            "model_name 'hpsg_vn'\n",
            "morpho_emb_dropout 0.2\n",
            "num_heads 8\n",
            "num_layers 3\n",
            "pad_left False\n",
            "partitioned True\n",
            "punctuation \".``'':,\"\n",
            "relu_dropout 0.2\n",
            "residual_dropout 0.2\n",
            "roberta_do_lower_case False\n",
            "roberta_model 'roberta-large'\n",
            "sentence_max_len 300\n",
            "step_decay True\n",
            "step_decay_factor 0.5\n",
            "step_decay_patience 5\n",
            "tag_emb_dropout 0.2\n",
            "timing_dropout 0.0\n",
            "use_bert False\n",
            "use_bert_only False\n",
            "use_cat False\n",
            "use_chars_lstm False\n",
            "use_elmo False\n",
            "use_lal True\n",
            "use_roberta False\n",
            "use_tags True\n",
            "use_words False\n",
            "use_xlnet False\n",
            "word_emb_dropout 0.4\n",
            "xlnet_do_lower_case False\n",
            "xlnet_model 'xlnet-large-cased'\n",
            "Reading dependency parsing data from data/vtb_train_3.3.0.sd\n",
            "Reading dependency parsing data from data/vtb_dev_3.3.0.sd\n",
            "Total number of data: 7277\n",
            "Loading training trees from data/cp_train_vn.clean...\n",
            "Loaded 7,277 training examples.\n",
            "Loading development trees from data/cp_dev_vn.clean...\n",
            "Loaded 2,078 development examples.\n",
            "Processing trees for training...\n",
            "total wrong head of : train data: is 0\n",
            "total wrong head of : dev data: is 0\n",
            "Constructing vocabularies...\n",
            "Initializing model...\n",
            "/usr/local/lib/python3.7/dist-packages/torch/nn/_reduction.py:42: UserWarning: size_average and reduce args will be deprecated, please use reduction='sum' instead.\n",
            "  warnings.warn(warning.format(ret))\n",
            "Initializing optimizer...\n",
            "Training...\n",
            "This is  hpsg_vn\n",
            "Traceback (most recent call last):\n",
            "  File \"src_joint/main.py\", line 809, in <module>\n",
            "    main()\n",
            "  File \"src_joint/main.py\", line 804, in main\n",
            "    args.callback(args)\n",
            "  File \"src_joint/main.py\", line 751, in <lambda>\n",
            "    subparser.set_defaults(callback=lambda args: run_train(args, hparams))\n",
            "  File \"src_joint/main.py\", line 493, in run_train\n",
            "    subbatch_sentences, subbatch_trees)\n",
            "  File \"/content/LAL-Parser/src_joint/KM_parser.py\", line 1827, in parse_batch\n",
            "    = self.parse_from_annotations(fencepost_annotations_start[start:end,:], fencepost_annotations_end[start:end,:], sentences[i], i, gold=golds[i])\n",
            "  File \"/content/LAL-Parser/src_joint/KM_parser.py\", line 1900, in parse_from_annotations\n",
            "    label_scores_chart = self.label_scores_from_annotations(fencepost_annotations_start, fencepost_annotations_end)\n",
            "  File \"/content/LAL-Parser/src_joint/KM_parser.py\", line 1885, in label_scores_from_annotations\n",
            "    label_scores_chart = self.f_label(span_features)\n",
            "  File \"/usr/local/lib/python3.7/dist-packages/torch/nn/modules/module.py\", line 889, in _call_impl\n",
            "    result = self.forward(*input, **kwargs)\n",
            "  File \"/usr/local/lib/python3.7/dist-packages/torch/nn/modules/container.py\", line 119, in forward\n",
            "    input = module(input)\n",
            "  File \"/usr/local/lib/python3.7/dist-packages/torch/nn/modules/module.py\", line 889, in _call_impl\n",
            "    result = self.forward(*input, **kwargs)\n",
            "  File \"/usr/local/lib/python3.7/dist-packages/torch/nn/modules/linear.py\", line 94, in forward\n",
            "    return F.linear(input, self.weight, self.bias)\n",
            "  File \"/usr/local/lib/python3.7/dist-packages/torch/nn/functional.py\", line 1753, in linear\n",
            "    return torch._C._nn.linear(input, weight, bias)\n",
            "RuntimeError: mat1 dim 1 must match mat2 dim 0\n"
          ],
          "name": "stdout"
        }
      ]
    }
  ]
}